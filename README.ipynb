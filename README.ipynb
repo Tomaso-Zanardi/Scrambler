jupytext --to=md --opt hide_notebook_metadata=true -o- README.ipynb
{
 "cells": [
  {
   "attachments": {
    "Ducati-Scrambler-logo-design-3.jpg": {
     "image/jpeg": "[encoded data removed]"
    }
   },
   "cell_type": "markdown",
   "metadata": {},
   "source": [
    "![Ducati-Scrambler-logo-design-3.jpg](attachment:Ducati-Scrambler-logo-design-3.jpg)"
   ]
  },
  {
   "cell_type": "markdown",
   "metadata": {},
   "source": [
    "***\n",
    "# README\n",
    "***"
   ]
  },
  {
   "cell_type": "markdown",
   "metadata": {},
   "source": [
    "## TLDR; first..."
   ]
  },
  {
   "cell_type": "markdown",
   "metadata": {},
   "source": [
    "Scrambler.py is a Python script that allows you to scramble text in many different ways.\n",
    "It is a module and all the different ways in which the script allows you to scramble text are coded separately in different specific functions.\n",
    "\n",
    "The main functions are 4:"
   ]
  },
  {
   "cell_type": "markdown",
   "metadata": {},
   "source": [
    "    mid_scrambler"
   ]
  },
  {
   "cell_type": "markdown",
   "metadata": {},
   "source": [
    "this one is a fuction that scrambles randomly every letter of each word but the first and the last one"
   ]
  },
  {
   "cell_type": "markdown",
   "metadata": {},
   "source": [
    "    but_first_scrambler"
   ]
  },
  {
   "cell_type": "markdown",
   "metadata": {},
   "source": [
    "this second function works similarly to the previous one, but it scrambles every letter but the first"
   ]
  },
  {
   "cell_type": "markdown",
   "metadata": {},
   "source": [
    "    total_scrmbler"
   ]
  },
  {
   "cell_type": "markdown",
   "metadata": {},
   "source": [
    "as the name suggests, this third function will scramble every word completely (every letter of every word)"
   ]
  },
  {
   "cell_type": "markdown",
   "metadata": {},
   "source": [
    "    rand_upper_lower"
   ]
  },
  {
   "cell_type": "markdown",
   "metadata": {},
   "source": [
    "this last function operates a bit differently, it doesn't scramble the order of the letters, but it randomly capitalize some letters or lower case them."
   ]
  },
  {
   "cell_type": "markdown",
   "metadata": {},
   "source": [
    "This is just a presentation of the basic features of the module, further in this document you'll find more specifics about the behaviour of each function."
   ]
  },
  {
   "cell_type": "markdown",
   "metadata": {},
   "source": [
    "# Getting started\n",
    "***"
   ]
  },
  {
   "cell_type": "markdown",
   "metadata": {},
   "source": [
    "## Features"
   ]
  },
  {
   "cell_type": "markdown",
   "metadata": {},
   "source": [
    "What's in the folder/repository:\n",
    "\n",
    "* A .txt version of the current documentation\n",
    "\n",
    "\n",
    "* The word scrambler module, with 4 basic functions as requested by the corse's assignment\n",
    "    \n",
    "    \n",
    "         mid_scrambler\n",
    "        \n",
    "        \n",
    "         but_first_scrambler\n",
    "        \n",
    "        \n",
    "         total_scrambler\n",
    "        \n",
    "        \n",
    "         rand_upper_lower\n",
    "        \n",
    "        \n",
    "        \n",
    "* integrated testing\n",
    "    \n",
    "    \n",
    "* An additional script to showcase the behaviour of the functions and to give the possibility to use them effectively to generate scrambled and whacky text"
   ]
  },
  {
   "cell_type": "markdown",
   "metadata": {},
   "source": [
    "## Requirements"
   ]
  },
  {
   "cell_type": "markdown",
   "metadata": {},
   "source": [
    "* Editors:\n",
    "\n",
    "    Although the scripts can be used and tested in the basic python IDLE or in your machine's terminal we suggest you to use a more feature-rich IDE, like Spyder:\n",
    "    https://www.spyder-ide.org/\n",
    "    \n",
    "* modules from the standard library:\n",
    "    \n",
    "    `re`, `random`, `os`\n",
    "    \n",
    "    \n",
    "* Additional libraries or packages:\n",
    "\n",
    "    to have a more fun experience and to ensure that the testing script works properly install `termcolor`. you can do that very easily by typing `conda install termcolor` in the anaconda terminal."
   ]
  },
  {
   "cell_type": "markdown",
   "metadata": {},
   "source": [
    "# scrambler.py \n",
    "*** "
   ]
  },
  {
   "cell_type": "markdown",
   "metadata": {},
   "source": [
    "This script is the main interest. It is a module that can be called in any other python script to import the functions it contains, individually or as * (star) import "
   ]
  },
  {
   "cell_type": "markdown",
   "metadata": {},
   "source": [
    "## mid_scrambler"
   ]
  },
  {
   "cell_type": "markdown",
   "metadata": {},
   "source": [
    "This function takes a string of text as an input and returns another srting\n",
    "    of text, in which every word is randomly scrambled but for the first and\n",
    "    last letter of every word.\n",
    "    This function is also sensitive to punctuation and doesn't process it as \n",
    "    part of words, leaving it in the original position."
   ]
  },
  {
   "cell_type": "markdown",
   "metadata": {},
   "source": [
    "### Arguments"
   ]
  },
  {
   "cell_type": "markdown",
   "metadata": {},
   "source": [
    "it takes one argument that has to be a string. it can be from a .txt document, or it can be typeded as an argument for the function, or it can be a variable with an assigned string. "
   ]
  },
  {
   "cell_type": "markdown",
   "metadata": {},
   "source": [
    "### Returns"
   ]
  },
  {
   "cell_type": "markdown",
   "metadata": {},
   "source": [
    "`mid_scrambler` returns a string containing the original text scrambled for every letter but the first and last of each word. It is sensitive to punctuation, therefore it mantains the punctuation from the input text in the same position when it returns it scrambled."
   ]
  },
  {
   "cell_type": "markdown",
   "metadata": {},
   "source": [
    "### Examples"
   ]
  },
  {
   "cell_type": "markdown",
   "metadata": {},
   "source": [
    "1. Here you can see how you can use `mid_scrambler` writing a string to scramble directly as the argumument of the function, in your script, or in the command line."
   ]
  },
  {
   "cell_type": "code",
   "execution_count": 8,
   "metadata": {},
   "outputs": [
    {
     "data": {
      "text/plain": [
       "'snoo stato a tovarre la nnnoa'"
      ]
     },
     "execution_count": 8,
     "metadata": {},
     "output_type": "execute_result"
    }
   ],
   "source": [
    "from scrambler import *\n",
    "mid_scrambler('sono stato a trovare la nonna')"
   ]
  },
  {
   "cell_type": "markdown",
   "metadata": {},
   "source": [
    "2. you can give a variable previously assigned with a string as argument"
   ]
  },
  {
   "cell_type": "code",
   "execution_count": 9,
   "metadata": {},
   "outputs": [
    {
     "name": "stdout",
     "output_type": "stream",
     "text": [
      "I wnet to gardmna's house to viist her\n"
     ]
    }
   ],
   "source": [
    "from scrambler import mid_scrambler\n",
    "a = 'I went to grandma\\'s house to visit her'\n",
    "print(mid_scrambler(a))"
   ]
  },
  {
   "cell_type": "markdown",
   "metadata": {},
   "source": [
    "3. the argument can be a variable assigned with the content of a specific file, like the test_text.txt file in this example"
   ]
  },
  {
   "cell_type": "code",
   "execution_count": 10,
   "metadata": {},
   "outputs": [
    {
     "name": "stdout",
     "output_type": "stream",
     "text": [
      "\n",
      "Tihs txet was wtrtien in sdepyr, not usnig natpeod, vi, vim, or any ohter eidotr\n"
     ]
    }
   ],
   "source": [
    "f = open('testo_di_prova.txt',mode='r')\n",
    "test_text_file = f.read()\n",
    "f.close()\n",
    "from scrambler import mid_scrambler\n",
    "print(mid_scrambler(test_text_file))"
   ]
  },
  {
   "cell_type": "markdown",
   "metadata": {},
   "source": [
    "## but_first_scrambler"
   ]
  },
  {
   "cell_type": "markdown",
   "metadata": {},
   "source": [
    "Similarly to the previous one, this function takes a string of text as an input and returns another srting of text, in which every word is randomly scrambled but for the first (**and only the first!**) letter. This function is also sensitive to punctuation and doesn't process it as part of words, leaving it in the original position."
   ]
  },
  {
   "cell_type": "markdown",
   "metadata": {},
   "source": [
    "### Arguments"
   ]
  },
  {
   "cell_type": "markdown",
   "metadata": {},
   "source": [
    "as for the previous function , `but_first_scrambler` takes one argument that has to be a string. it can be from a .txt document, or it can be typeded as an argument for the function, or it can be a variable with an assigned string."
   ]
  },
  {
   "cell_type": "markdown",
   "metadata": {},
   "source": [
    "### Returns"
   ]
  },
  {
   "cell_type": "markdown",
   "metadata": {},
   "source": [
    "`but_first_scrambler` returns a string containing the original text scrambled for every letter but the first of each word. It is sensitive to punctuation, therefore it mantains the punctuation from the input text in the same position when it returns it scrambled."
   ]
  },
  {
   "cell_type": "markdown",
   "metadata": {},
   "source": [
    "### Examples"
   ]
  },
  {
   "cell_type": "markdown",
   "metadata": {},
   "source": [
    "1. Here you can see how you can use `but_first_scrambler` writing the text to scramble directly in your script or in the command line."
   ]
  },
  {
   "cell_type": "code",
   "execution_count": 11,
   "metadata": {},
   "outputs": [
    {
     "data": {
      "text/plain": [
       "'sono sttao a troreva la zia'"
      ]
     },
     "execution_count": 11,
     "metadata": {},
     "output_type": "execute_result"
    }
   ],
   "source": [
    "from scrambler import but_first_scrambler\n",
    "but_first_scrambler('sono stato a trovare la zia')"
   ]
  },
  {
   "cell_type": "markdown",
   "metadata": {},
   "source": [
    "2. you can give a variable previously assigned with a string as argument."
   ]
  },
  {
   "cell_type": "code",
   "execution_count": 12,
   "metadata": {},
   "outputs": [
    {
     "data": {
      "text/plain": [
       "\"I wnet to my anut's huose to viist her\""
      ]
     },
     "execution_count": 12,
     "metadata": {},
     "output_type": "execute_result"
    }
   ],
   "source": [
    "a = 'I went to my aunt\\'s house to visit her'\n",
    "mid_scrambler(a)"
   ]
  },
  {
   "cell_type": "markdown",
   "metadata": {},
   "source": [
    "3. the argument can be a variable assigned with the content of a specific file, like the test_text.txt file in this example."
   ]
  },
  {
   "cell_type": "code",
   "execution_count": 13,
   "metadata": {},
   "outputs": [
    {
     "data": {
      "text/plain": [
       "'\\nThsi ttxe wsa wretnti in sdyerp, not unisg ndoeatp, vi, vim, or ayn otehr etoird'"
      ]
     },
     "execution_count": 13,
     "metadata": {},
     "output_type": "execute_result"
    }
   ],
   "source": [
    "f = open('testo_di_prova.txt',mode='r')\n",
    "test_text_file = f.read()\n",
    "f.close()\n",
    "but_first_scrambler(test_text_file)"
   ]
  },
  {
   "cell_type": "markdown",
   "metadata": {},
   "source": [
    "## total_scrambler"
   ]
  },
  {
   "cell_type": "markdown",
   "metadata": {},
   "source": [
    "Similarly to what we saw for previous functions, this one takes a string of text as an input and returns another srting of text, in which every word is randomly scrambled (**every letter of every word...a big mess!**) letter. This function is also sensitive to punctuation and doesn't process it as part of words, leaving it in the original position."
   ]
  },
  {
   "cell_type": "markdown",
   "metadata": {},
   "source": [
    "### Arguments"
   ]
  },
  {
   "cell_type": "markdown",
   "metadata": {},
   "source": [
    "as for previous functions , `total_scrambler` takes one argument that has to be a string. It can be from a .txt document, it can be typeded as an argument for the function, or it can be a variable with an assigned string."
   ]
  },
  {
   "cell_type": "markdown",
   "metadata": {},
   "source": [
    "### Returns"
   ]
  },
  {
   "cell_type": "markdown",
   "metadata": {},
   "source": [
    "`total_scrambler` returns a string containing the original text scrambled, every letter of each word can be in the wrong place. It is sensitive to punctuation, therefore it mantains the punctuation from the input text in the same position when it returns it scrambled."
   ]
  },
  {
   "cell_type": "markdown",
   "metadata": {},
   "source": [
    "### Examples"
   ]
  },
  {
   "cell_type": "markdown",
   "metadata": {},
   "source": [
    "1. Here you can see an example on how to use `total_scrambler` writing the text to scramble directly in your script or in the command line."
   ]
  },
  {
   "cell_type": "code",
   "execution_count": 14,
   "metadata": {},
   "outputs": [
    {
     "data": {
      "text/plain": [
       "'onso taost a vartreo la uaigcn '"
      ]
     },
     "execution_count": 14,
     "metadata": {},
     "output_type": "execute_result"
    }
   ],
   "source": [
    "from scrambler import total_scrambler\n",
    "total_scrambler('sono stato a trovare la cugina')"
   ]
  },
  {
   "cell_type": "markdown",
   "metadata": {},
   "source": [
    "2. or you can give a variable previously assigned with a string as argument"
   ]
  },
  {
   "cell_type": "code",
   "execution_count": 15,
   "metadata": {},
   "outputs": [
    {
     "data": {
      "text/plain": [
       "\"I went to ym ncuois's suoeh to itivs her \""
      ]
     },
     "execution_count": 15,
     "metadata": {},
     "output_type": "execute_result"
    }
   ],
   "source": [
    "a = 'I went to my cousin\\'s house to visit her'\n",
    "total_scrambler(a)"
   ]
  },
  {
   "cell_type": "markdown",
   "metadata": {},
   "source": [
    "3. or the argument can be a variable assigned with the content of a specific file, like the .txt file in this example"
   ]
  },
  {
   "cell_type": "code",
   "execution_count": 16,
   "metadata": {},
   "outputs": [
    {
     "data": {
      "text/plain": [
       "'\\nShit ttex asw wrtinet in seyrpd, nto suing atnpdeo, iv, imv, or yan eroht eoitdr '"
      ]
     },
     "execution_count": 16,
     "metadata": {},
     "output_type": "execute_result"
    }
   ],
   "source": [
    "f = open('testo_di_prova.txt',mode='r')\n",
    "test_text_file = f.read()\n",
    "f.close()\n",
    "total_scrambler(test_text_file)"
   ]
  },
  {
   "cell_type": "markdown",
   "metadata": {},
   "source": [
    "## rand_upper_lower"
   ]
  },
  {
   "cell_type": "markdown",
   "metadata": {},
   "source": [
    "This time things are slightly different. This function takes a string of text as an input and returns another string of text, in which every letter ir randomly capitalized or lower-cased. This function, as the previous ones, is also sensitive to punctuation and doesn't process it as part of words, leaving it in the original position."
   ]
  },
  {
   "cell_type": "markdown",
   "metadata": {},
   "source": [
    "### Arguments"
   ]
  },
  {
   "cell_type": "markdown",
   "metadata": {},
   "source": [
    "as for previous functions , `rand_upper_lower` takes one argument that has to be a string, from .txt document, it can be typeded as an argument for the function, or it can be a variable with an assigned string."
   ]
  },
  {
   "cell_type": "markdown",
   "metadata": {},
   "source": [
    "### Returns"
   ]
  },
  {
   "cell_type": "markdown",
   "metadata": {},
   "source": [
    "`rand_upper_lower` returns a string containing the original text scrambled, every letter of each word can be in the wrong place. It is sensitive to punctuation, therefore it mantains the punctuation from the imput text in the same position when it returns it scrambled."
   ]
  },
  {
   "cell_type": "markdown",
   "metadata": {},
   "source": [
    "### Examples"
   ]
  },
  {
   "cell_type": "markdown",
   "metadata": {},
   "source": [
    "1. Here you can see an example on how to use `rand_upper_lower` writing the text to scramble directly in your script or in the command line."
   ]
  },
  {
   "cell_type": "code",
   "execution_count": 17,
   "metadata": {},
   "outputs": [
    {
     "data": {
      "text/plain": [
       "'SonO StAto a trOVAre LA CugINA '"
      ]
     },
     "execution_count": 17,
     "metadata": {},
     "output_type": "execute_result"
    }
   ],
   "source": [
    "from scrambler import rand_upper_lower\n",
    "rand_upper_lower('sono stato a trovare la cugina')"
   ]
  },
  {
   "cell_type": "markdown",
   "metadata": {},
   "source": [
    "2. or you can give a variable previously assigned with a string as argument."
   ]
  },
  {
   "cell_type": "code",
   "execution_count": 18,
   "metadata": {},
   "outputs": [
    {
     "name": "stdout",
     "output_type": "stream",
     "text": [
      "i Went TO My CoUSIn'S hoUSe TO ViSIt hER \n"
     ]
    }
   ],
   "source": [
    "a = 'I went to my cousin\\'s house to visit her'\n",
    "print(rand_upper_lower(a))"
   ]
  },
  {
   "cell_type": "markdown",
   "metadata": {},
   "source": [
    "3. or the argument can be a variable assigned with the content of a specific file, like the .txt file in this example"
   ]
  },
  {
   "cell_type": "code",
   "execution_count": 19,
   "metadata": {},
   "outputs": [
    {
     "name": "stdout",
     "output_type": "stream",
     "text": [
      "this TEXt WaS WriTTeN IN SPYder, Not uSINg nOTEPaD, Vi, ViM, oR aNY oTHER EdiTOR \n"
     ]
    }
   ],
   "source": [
    "f = open('testo_di_prova.txt',mode='r')\n",
    "test_text_file = f.read()\n",
    "f.close()\n",
    "print(rand_upper_lower(test_text_file))"
   ]
  },
  {
   "cell_type": "markdown",
   "metadata": {},
   "source": [
    "# test_scrambler.py\n",
    "***"
   ]
  },
  {
   "cell_type": "markdown",
   "metadata": {},
   "source": [
    "test_scrambler.py is a python script that offers to the user the possibility of testing and using the functions of the scrambler module."
   ]
  },
  {
   "cell_type": "markdown",
   "metadata": {},
   "source": [
    "## How does it works?"
   ]
  },
  {
   "cell_type": "markdown",
   "metadata": {},
   "source": [
    "Once run, the program greets the user with a message that also explains the initial two basic choices that are given:\n",
    "\n",
    "1. to load a text from a text file\n",
    "\n",
    "2. to write a text than can then be manipulated\n",
    "\n",
    "the user has to input the string 'open' if he chooses option 1. and the string 'scramble' if he wants to write a new text in the console, for the script to scramble."
   ]
  },
  {
   "cell_type": "markdown",
   "metadata": {},
   "source": [
    "* If he chooses first option the program will ask for the name of the file from which to extract the text. It will also issue a warning message, advising the user to either have the desired text file in the working directory or to specify the full path of the file.\n",
    "\n",
    "* If instead the second option is chosen the program will ask the user to input the text to be scrambled.\n",
    "\n",
    "At this point the user is presented with the option to manipulate the text according to Scrambler.py's basic functions. It is possible to produced a text scrambled by any of the functions or by them all.\n",
    "\n",
    "Lastly the user is given the possibility to choose if he wants the scrambled text printed in the console, saved in a new text file, or both.\n",
    "Unless the user chooses to have the text only printed the program will ask one last input from the user which is the name of the file in which the text will be written. the file will be saved in the working directory, therefore if a file with the same name already exists in that directory, an error message will be issued, asking the user to find another name.\n"
   ]
  },
  {
   "cell_type": "markdown",
   "metadata": {},
   "source": [
    "# Final notes & Credits\n",
    "***"
   ]
  },
  {
   "cell_type": "markdown",
   "metadata": {},
   "source": [
    "to have a better experience whie using scrambler.py and test_scrambler.py we suggest you:\n",
    "\n",
    "- to have the ToC extension for Jupiter installed, to be able to consult the .ipynb version of the current documentation with agility\n",
    "\n",
    "- to use the spyder IDE to run the scripts, with the termcolor module installed, so that you'll have more fun and so that the colored output is properly visualized (if you open the scripts in a terminal that's not guaranteed)\n",
    "\n",
    "\n",
    "Some of the functions built in scrambler.py were adapted by solutions found in stackoverflow.com threads:\n",
    "\n",
    "- `mid_scrambler` and `but_first scrambler` were adapted from a solution proposed by username \"Joel Cornet\" in response to a thread opened by username \"Tyler\" https://stackoverflow.com/questions/15349709/how-can-i-strip-punctuation-from-a-string-and-then-add-it-back-at-the-same-index\n",
    "\n",
    "- `total_scrambler` could have implemented by the same solution but for variety's sake I preferred to use and adapt a solution proposed by username \"t3m2\" in a thread opened by username \"Zara\" https://stackoverflow.com/questions/53931675/shuffle-words-characters-while-maintaining-sentence-structure-and-punctuations"
   ]
  }
 ],
 "metadata": {
  "kernelspec": {
   "display_name": "Python 3",
   "language": "python",
   "name": "python3"
  },
  "language_info": {
   "codemirror_mode": {
    "name": "ipython",
    "version": 3
   },
   "file_extension": ".py",
   "mimetype": "text/x-python",
   "name": "python",
   "nbconvert_exporter": "python",
   "pygments_lexer": "ipython3",
   "version": "3.8.5"
  },
  "toc": {
   "base_numbering": 1,
   "nav_menu": {},
   "number_sections": true,
   "sideBar": true,
   "skip_h1_title": false,
   "title_cell": "Table of Contents",
   "title_sidebar": "Contents",
   "toc_cell": false,
   "toc_position": {},
   "toc_section_display": true,
   "toc_window_display": true
  }
 },
 "nbformat": 4,
 "nbformat_minor": 4
}
